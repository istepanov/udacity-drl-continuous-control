{
 "cells": [
  {
   "cell_type": "markdown",
   "metadata": {},
   "source": [
    "# Continuous Control\n",
    "\n",
    "---\n",
    "\n",
    "You are welcome to use this coding environment to train your agent for the project.  Follow the instructions below to get started!"
   ]
  },
  {
   "cell_type": "markdown",
   "metadata": {},
   "source": [
    "### 1. Imports"
   ]
  },
  {
   "cell_type": "code",
   "execution_count": 1,
   "metadata": {},
   "outputs": [],
   "source": [
    "from sys import platform\n",
    "from unityagents import UnityEnvironment\n",
    "import numpy as np\n",
    "import random\n",
    "import torch\n",
    "from collections import deque\n",
    "import matplotlib.pyplot as plt\n",
    "%matplotlib inline\n",
    "\n",
    "from ddpg_agent import Agent"
   ]
  },
  {
   "cell_type": "markdown",
   "metadata": {},
   "source": [
    "### 2. Start the Environment"
   ]
  },
  {
   "cell_type": "code",
   "execution_count": 2,
   "metadata": {},
   "outputs": [
    {
     "name": "stderr",
     "output_type": "stream",
     "text": [
      "INFO:unityagents:\n",
      "'Academy' started successfully!\n",
      "Unity Academy name: Academy\n",
      "        Number of Brains: 1\n",
      "        Number of External Brains : 1\n",
      "        Lesson number : 0\n",
      "        Reset Parameters :\n",
      "\t\tgoal_speed -> 1.0\n",
      "\t\tgoal_size -> 5.0\n",
      "Unity brain name: ReacherBrain\n",
      "        Number of Visual Observations (per agent): 0\n",
      "        Vector Observation space type: continuous\n",
      "        Vector Observation space size (per agent): 33\n",
      "        Number of stacked Vector Observation: 1\n",
      "        Vector Action space type: continuous\n",
      "        Vector Action space size (per agent): 4\n",
      "        Vector Action descriptions: , , , \n"
     ]
    }
   ],
   "source": [
    "if platform == \"darwin\":\n",
    "    file_name = 'Reacher.app'\n",
    "else:\n",
    "    file_name = 'Reacher_Linux/Reacher.x86_64'\n",
    "\n",
    "# load version 2 (with 20 agents) of the environment\n",
    "env = UnityEnvironment(file_name=file_name)"
   ]
  },
  {
   "cell_type": "markdown",
   "metadata": {},
   "source": [
    "Environments contain **_brains_** which are responsible for deciding the actions of their associated agents. Here we check for the first brain available, and set it as the default brain we will be controlling from Python."
   ]
  },
  {
   "cell_type": "code",
   "execution_count": 3,
   "metadata": {},
   "outputs": [],
   "source": [
    "# get the default brain\n",
    "brain_name = env.brain_names[0]\n",
    "brain = env.brains[brain_name]"
   ]
  },
  {
   "cell_type": "markdown",
   "metadata": {},
   "source": [
    "### 2. Examine the State and Action Spaces\n",
    "\n",
    "Run the code cell below to print some information about the environment."
   ]
  },
  {
   "cell_type": "code",
   "execution_count": 4,
   "metadata": {},
   "outputs": [
    {
     "name": "stdout",
     "output_type": "stream",
     "text": [
      "Number of agents: 20\n",
      "Size of each action: 4\n",
      "There are 20 agents. Each observes a state with length: 33\n",
      "The state for the first agent looks like: [ 0.00000000e+00 -4.00000000e+00  0.00000000e+00  1.00000000e+00\n",
      " -0.00000000e+00 -0.00000000e+00 -4.37113883e-08  0.00000000e+00\n",
      "  0.00000000e+00  0.00000000e+00  0.00000000e+00  0.00000000e+00\n",
      "  0.00000000e+00  0.00000000e+00 -1.00000000e+01  0.00000000e+00\n",
      "  1.00000000e+00 -0.00000000e+00 -0.00000000e+00 -4.37113883e-08\n",
      "  0.00000000e+00  0.00000000e+00  0.00000000e+00  0.00000000e+00\n",
      "  0.00000000e+00  0.00000000e+00  5.75471878e+00 -1.00000000e+00\n",
      "  5.55726624e+00  0.00000000e+00  1.00000000e+00  0.00000000e+00\n",
      " -1.68164849e-01]\n"
     ]
    }
   ],
   "source": [
    "# reset the environment\n",
    "env_info = env.reset(train_mode=True)[brain_name]\n",
    "\n",
    "# number of agents\n",
    "num_agents = len(env_info.agents)\n",
    "print('Number of agents:', num_agents)\n",
    "\n",
    "# size of each action\n",
    "action_size = brain.vector_action_space_size\n",
    "print('Size of each action:', action_size)\n",
    "\n",
    "# examine the state space \n",
    "states = env_info.vector_observations\n",
    "state_size = states.shape[1]\n",
    "print('There are {} agents. Each observes a state with length: {}'.format(states.shape[0], state_size))\n",
    "print('The state for the first agent looks like:', states[0])"
   ]
  },
  {
   "cell_type": "markdown",
   "metadata": {},
   "source": [
    "### 3. Take Random Actions in the Environment\n",
    "\n",
    "In the next code cell, you will learn how to use the Python API to control the agent and receive feedback from the environment.\n",
    "\n",
    "Note that **in this coding environment, you will not be able to watch the agents while they are training**, and you should set `train_mode=True` to restart the environment."
   ]
  },
  {
   "cell_type": "code",
   "execution_count": 5,
   "metadata": {},
   "outputs": [
    {
     "name": "stdout",
     "output_type": "stream",
     "text": [
      "Total score (averaged over agents) this episode: 0.1719999961555004\n"
     ]
    }
   ],
   "source": [
    "env_info = env.reset(train_mode=True)[brain_name]     # reset the environment    \n",
    "states = env_info.vector_observations                  # get the current state (for each agent)\n",
    "scores = np.zeros(num_agents)                          # initialize the score (for each agent)\n",
    "while True:\n",
    "    actions = np.random.randn(num_agents, action_size) # select an action (for each agent)\n",
    "    actions = np.clip(actions, -1, 1)                  # all actions between -1 and 1\n",
    "    env_info = env.step(actions)[brain_name]           # send all actions to tne environment\n",
    "    next_states = env_info.vector_observations         # get next state (for each agent)\n",
    "    rewards = env_info.rewards                         # get reward (for each agent)\n",
    "    dones = env_info.local_done                        # see if episode finished\n",
    "    scores += env_info.rewards                         # update the score (for each agent)\n",
    "    states = next_states                               # roll over states to next time step\n",
    "    if np.any(dones):                                  # exit loop if episode finished\n",
    "        break\n",
    "print('Total score (averaged over agents) this episode: {}'.format(np.mean(scores)))"
   ]
  },
  {
   "cell_type": "markdown",
   "metadata": {},
   "source": [
    "### 4. Instantiate Agent"
   ]
  },
  {
   "cell_type": "code",
   "execution_count": 6,
   "metadata": {},
   "outputs": [],
   "source": [
    "agent = Agent(state_size=state_size, action_size=action_size, random_seed=2)"
   ]
  },
  {
   "cell_type": "markdown",
   "metadata": {},
   "source": [
    "### 5. Train"
   ]
  },
  {
   "cell_type": "code",
   "execution_count": 7,
   "metadata": {},
   "outputs": [
    {
     "name": "stdout",
     "output_type": "stream",
     "text": [
      "Episode 10\tScore: 0.58\tAverage Score: 0.39\n",
      "Episode 20\tScore: 0.79\tAverage Score: 0.61\n",
      "Episode 30\tScore: 0.94\tAverage Score: 0.66\n",
      "Episode 40\tScore: 1.27\tAverage Score: 0.79\n",
      "Episode 50\tScore: 2.76\tAverage Score: 0.91\n",
      "Episode 60\tScore: 1.80\tAverage Score: 1.06\n",
      "Episode 70\tScore: 2.37\tAverage Score: 1.21\n",
      "Episode 80\tScore: 2.52\tAverage Score: 1.32\n",
      "Episode 90\tScore: 3.31\tAverage Score: 1.50\n",
      "Episode 100\tScore: 2.77\tAverage Score: 1.67\n",
      "Episode 110\tScore: 2.95\tAverage Score: 1.91\n",
      "Episode 120\tScore: 3.05\tAverage Score: 2.12\n",
      "Episode 130\tScore: 2.26\tAverage Score: 2.32\n",
      "Episode 140\tScore: 2.68\tAverage Score: 2.48\n",
      "Episode 150\tScore: 2.87\tAverage Score: 2.62\n",
      "Episode 160\tScore: 3.23\tAverage Score: 2.72\n",
      "Episode 170\tScore: 2.00\tAverage Score: 2.73\n",
      "Episode 180\tScore: 1.46\tAverage Score: 2.70\n",
      "Episode 190\tScore: 1.78\tAverage Score: 2.58\n",
      "Episode 200\tScore: 2.43\tAverage Score: 2.49\n",
      "Episode 210\tScore: 2.85\tAverage Score: 2.46\n",
      "Episode 220\tScore: 2.50\tAverage Score: 2.47\n",
      "Episode 230\tScore: 2.54\tAverage Score: 2.53\n",
      "Episode 240\tScore: 4.14\tAverage Score: 2.60\n",
      "Episode 250\tScore: 3.24\tAverage Score: 2.68\n",
      "Episode 260\tScore: 3.32\tAverage Score: 2.68\n",
      "Episode 270\tScore: 3.52\tAverage Score: 2.72\n",
      "Episode 280\tScore: 3.80\tAverage Score: 2.94\n",
      "Episode 290\tScore: 3.38\tAverage Score: 3.13\n",
      "Episode 300\tScore: 2.37\tAverage Score: 3.18\n",
      "Episode 310\tScore: 2.46\tAverage Score: 3.20\n",
      "Episode 320\tScore: 2.46\tAverage Score: 3.13\n",
      "Episode 330\tScore: 2.07\tAverage Score: 3.01\n",
      "Episode 340\tScore: 1.99\tAverage Score: 2.92\n",
      "Episode 350\tScore: 1.89\tAverage Score: 2.79\n",
      "Episode 360\tScore: 2.63\tAverage Score: 2.79\n",
      "Episode 370\tScore: 2.81\tAverage Score: 2.80\n",
      "Episode 380\tScore: 2.93\tAverage Score: 2.72\n",
      "Episode 390\tScore: 1.77\tAverage Score: 2.64\n",
      "Episode 400\tScore: 2.73\tAverage Score: 2.64\n",
      "Episode 410\tScore: 3.29\tAverage Score: 2.72\n",
      "Episode 420\tScore: 3.25\tAverage Score: 2.83\n",
      "Episode 430\tScore: 3.38\tAverage Score: 2.91\n",
      "Episode 440\tScore: 3.52\tAverage Score: 2.93\n",
      "Episode 450\tScore: 2.45\tAverage Score: 2.96\n",
      "Episode 460\tScore: 1.99\tAverage Score: 2.97\n",
      "Episode 470\tScore: 2.84\tAverage Score: 2.99\n",
      "Episode 480\tScore: 3.96\tAverage Score: 3.05\n",
      "Episode 490\tScore: 2.19\tAverage Score: 3.15\n",
      "Episode 500\tScore: 2.91\tAverage Score: 3.17\n",
      "Episode 510\tScore: 3.94\tAverage Score: 3.16\n",
      "Episode 520\tScore: 2.21\tAverage Score: 3.06\n",
      "Episode 530\tScore: 2.29\tAverage Score: 3.11\n",
      "Episode 540\tScore: 5.08\tAverage Score: 3.29\n",
      "Episode 550\tScore: 6.62\tAverage Score: 3.51\n",
      "Episode 560\tScore: 4.39\tAverage Score: 3.79\n",
      "Episode 570\tScore: 6.95\tAverage Score: 4.18\n",
      "Episode 580\tScore: 4.89\tAverage Score: 4.45\n",
      "Episode 590\tScore: 4.84\tAverage Score: 4.62\n",
      "Episode 600\tScore: 5.24\tAverage Score: 4.77\n",
      "Episode 610\tScore: 9.93\tAverage Score: 5.18\n",
      "Episode 620\tScore: 10.88\tAverage Score: 5.87\n",
      "Episode 630\tScore: 7.14\tAverage Score: 6.348\n",
      "Episode 640\tScore: 5.48\tAverage Score: 6.61\n",
      "Episode 650\tScore: 5.81\tAverage Score: 6.66\n",
      "Episode 660\tScore: 7.59\tAverage Score: 6.77\n",
      "Episode 670\tScore: 5.18\tAverage Score: 6.50\n",
      "Episode 680\tScore: 4.73\tAverage Score: 6.31\n",
      "Episode 690\tScore: 4.81\tAverage Score: 6.36\n",
      "Episode 700\tScore: 4.48\tAverage Score: 6.42\n",
      "Episode 710\tScore: 4.90\tAverage Score: 6.14\n",
      "Episode 720\tScore: 5.23\tAverage Score: 5.60\n",
      "Episode 730\tScore: 4.14\tAverage Score: 5.13\n",
      "Episode 740\tScore: 4.12\tAverage Score: 4.82\n",
      "Episode 750\tScore: 5.08\tAverage Score: 4.75\n",
      "Episode 760\tScore: 2.93\tAverage Score: 4.45\n",
      "Episode 770\tScore: 3.49\tAverage Score: 4.41\n",
      "Episode 780\tScore: 6.46\tAverage Score: 4.45\n",
      "Episode 790\tScore: 3.91\tAverage Score: 4.28\n",
      "Episode 800\tScore: 4.39\tAverage Score: 4.12\n",
      "Episode 810\tScore: 3.21\tAverage Score: 3.98\n",
      "Episode 820\tScore: 4.93\tAverage Score: 3.98\n",
      "Episode 830\tScore: 4.25\tAverage Score: 4.07\n",
      "Episode 840\tScore: 5.84\tAverage Score: 4.09\n",
      "Episode 850\tScore: 4.55\tAverage Score: 4.02\n",
      "Episode 860\tScore: 2.65\tAverage Score: 3.96\n",
      "Episode 870\tScore: 4.33\tAverage Score: 3.92\n",
      "Episode 880\tScore: 4.61\tAverage Score: 3.88\n",
      "Episode 890\tScore: 4.69\tAverage Score: 3.80\n",
      "Episode 900\tScore: 2.69\tAverage Score: 3.79\n",
      "Episode 910\tScore: 2.64\tAverage Score: 3.77\n",
      "Episode 920\tScore: 1.59\tAverage Score: 3.63\n",
      "Episode 930\tScore: 2.54\tAverage Score: 3.40\n",
      "Episode 940\tScore: 1.48\tAverage Score: 3.18\n",
      "Episode 950\tScore: 2.22\tAverage Score: 2.94\n",
      "Episode 960\tScore: 1.95\tAverage Score: 2.82\n",
      "Episode 970\tScore: 1.28\tAverage Score: 2.67\n",
      "Episode 980\tScore: 1.35\tAverage Score: 2.35\n",
      "Episode 990\tScore: 1.37\tAverage Score: 2.15\n",
      "Episode 1000\tScore: 0.94\tAverage Score: 1.91\n"
     ]
    },
    {
     "data": {
      "image/png": "[encoded data removed]",
      "text/plain": [
       "<Figure size 432x288 with 1 Axes>"
      ]
     },
     "metadata": {
      "needs_background": "light"
     },
     "output_type": "display_data"
    }
   ],
   "source": [
    "def ddpg(n_episodes=1000, max_t=int(1e6), print_every=10):\n",
    "    mean_scores_deque = deque(maxlen=100)\n",
    "    mean_scores = []\n",
    "    for i_episode in range(1, n_episodes+1):\n",
    "        env_info = env.reset(train_mode=True)[brain_name]\n",
    "        states = env_info.vector_observations\n",
    "        scores = np.zeros(num_agents)\n",
    "        agent.reset()\n",
    "        for t in range(max_t):\n",
    "            actions = agent.act(states)\n",
    "            env_info = env.step(actions)[brain_name]\n",
    "            next_states = env_info.vector_observations\n",
    "            rewards = env_info.rewards\n",
    "            dones = env_info.local_done\n",
    "            for i, (state, action, reward, next_state, done) in enumerate(zip(states, actions, rewards, next_states, dones)):\n",
    "                agent.step(state, action, reward, next_state, done, learn=(t % 20 == 0 and i % 2 == 0))\n",
    "\n",
    "            scores += env_info.rewards\n",
    "            states = next_states\n",
    "            if np.any(dones):\n",
    "                break\n",
    "\n",
    "        mean_score = np.mean(scores)\n",
    "        mean_scores_deque.append(mean_score)\n",
    "        mean_scores.append(mean_score)\n",
    "        mean_score_last_n_episodes = np.mean(mean_scores_deque)\n",
    "        \n",
    "        print('\\rEpisode {}\\tScore: {:.2f}\\tAverage Score: {:.2f}'.format(i_episode, mean_score, mean_score_last_n_episodes), end='')\n",
    "        torch.save(agent.actor_local.state_dict(), 'checkpoint_actor.pth')\n",
    "        torch.save(agent.critic_local.state_dict(), 'checkpoint_critic.pth')\n",
    "        if i_episode % print_every == 0:\n",
    "            print('\\rEpisode {}\\tScore: {:.2f}\\tAverage Score: {:.2f}'.format(i_episode, mean_score, mean_score_last_n_episodes))\n",
    "            \n",
    "        if mean_score_last_n_episodes >= 30 and i_episode >= 100:\n",
    "            print('Problem solved after {} epsisodes!! Average score: {:.2f}'.format(i_episode, mean_score_last_n_episodes))\n",
    "            break\n",
    "            \n",
    "    return mean_scores\n",
    "\n",
    "scores = ddpg()\n",
    "\n",
    "fig = plt.figure()\n",
    "ax = fig.add_subplot(111)\n",
    "plt.plot(np.arange(1, len(scores)+1), scores)\n",
    "plt.ylabel('Score')\n",
    "plt.xlabel('Episode #')\n",
    "plt.show()"
   ]
  },
  {
   "cell_type": "markdown",
   "metadata": {},
   "source": [
    "### 5. Smart agent"
   ]
  },
  {
   "cell_type": "code",
   "execution_count": 8,
   "metadata": {},
   "outputs": [
    {
     "name": "stdout",
     "output_type": "stream",
     "text": [
      "Total score: 0.6819999847561121\n"
     ]
    }
   ],
   "source": [
    "agent.actor_local.load_state_dict(torch.load('checkpoint_actor.pth'))\n",
    "agent.critic_local.load_state_dict(torch.load('checkpoint_critic.pth'))\n",
    "\n",
    "env_info = env.reset(train_mode=False)[brain_name]     # reset the environment    \n",
    "states = env_info.vector_observations                  # get the current state (for each agent)\n",
    "scores = np.zeros(num_agents)                          # initialize the score (for each agent)\n",
    "\n",
    "while True:\n",
    "    actions = agent.act(states)                        # select actions from loaded model agent\n",
    "    env_info = env.step(actions)[brain_name]           # send all actions to tne environment\n",
    "    next_states = env_info.vector_observations         # get next state (for each agent)\n",
    "    rewards = env_info.rewards                         # get reward (for each agent)\n",
    "    dones = env_info.local_done                        # see if episode finished\n",
    "    scores += env_info.rewards                         # update the score (for each agent)\n",
    "    states = next_states                               # roll over states to next time step\n",
    "    if np.any(dones):                                  # exit loop if episode finished\n",
    "        break\n",
    "print('Total score: {}'.format(np.mean(scores)))"
   ]
  },
  {
   "cell_type": "markdown",
   "metadata": {},
   "source": [
    "### 6. Close environment"
   ]
  },
  {
   "cell_type": "code",
   "execution_count": 9,
   "metadata": {},
   "outputs": [],
   "source": [
    "env.close()"
   ]
  }
 ],
 "metadata": {
  "kernelspec": {
   "display_name": "Python 3",
   "language": "python",
   "name": "python3"
  },
  "language_info": {
   "codemirror_mode": {
    "name": "ipython",
    "version": 3
   },
   "file_extension": ".py",
   "mimetype": "text/x-python",
   "name": "python",
   "nbconvert_exporter": "python",
   "pygments_lexer": "ipython3",
   "version": "3.6.7"
  }
 },
 "nbformat": 4,
 "nbformat_minor": 2
}
